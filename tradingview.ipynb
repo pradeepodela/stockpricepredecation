{
 "cells": [
  {
   "cell_type": "code",
   "execution_count": 1,
   "id": "642e63c8",
   "metadata": {},
   "outputs": [],
   "source": [
    "import pandas as pd\n",
    "import numpy as np \n",
    "from tradingview_ta import TA_Handler, Interval, Exchange \n"
   ]
  },
  {
   "cell_type": "code",
   "execution_count": 218,
   "id": "7a70abb0",
   "metadata": {},
   "outputs": [
    {
     "name": "stdout",
     "output_type": "stream",
     "text": [
      "{'RECOMMENDATION': 'SELL', 'BUY': 3, 'SELL': 14, 'NEUTRAL': 9}\n"
     ]
    }
   ],
   "source": [
    "tesla = TA_Handler(\n",
    "    symbol=\"TSLA\",\n",
    "    screener=\"america\",\n",
    "    exchange=\"NASDAQ\",\n",
    "    interval=Interval.INTERVAL_1_MINUTE,\n",
    "    proxies={'http': 'http://example.com:8080'} # Uncomment to enable proxy (replace the URL).\n",
    ")\n",
    "print(tesla.get_analysis().summary)"
   ]
  },
  {
   "cell_type": "code",
   "execution_count": 219,
   "id": "c5292897",
   "metadata": {},
   "outputs": [
    {
     "name": "stdout",
     "output_type": "stream",
     "text": [
      "Symbol: TSLA\n",
      "Exchange: NASDAQ\n",
      "Interval: 1m\n"
     ]
    }
   ],
   "source": [
    "print('Symbol:',tesla.symbol)\n",
    "print('Exchange:',tesla.exchange)\n",
    "print('Interval:',tesla.interval)"
   ]
  },
  {
   "cell_type": "code",
   "execution_count": 220,
   "id": "84f8a30a",
   "metadata": {},
   "outputs": [
    {
     "name": "stdout",
     "output_type": "stream",
     "text": [
      "{'RECOMMENDATION': 'NEUTRAL', 'BUY': 2, 'SELL': 1, 'NEUTRAL': 8, 'COMPUTE': {'RSI': 'NEUTRAL', 'STOCH.K': 'NEUTRAL', 'CCI': 'NEUTRAL', 'ADX': 'NEUTRAL', 'AO': 'NEUTRAL', 'Mom': 'BUY', 'MACD': 'BUY', 'Stoch.RSI': 'NEUTRAL', 'W%R': 'NEUTRAL', 'BBP': 'SELL', 'UO': 'NEUTRAL'}}\n"
     ]
    }
   ],
   "source": [
    "print(tesla.get_analysis().oscillators)"
   ]
  },
  {
   "cell_type": "code",
   "execution_count": 5,
   "id": "c0c685f3",
   "metadata": {},
   "outputs": [
    {
     "name": "stdout",
     "output_type": "stream",
     "text": [
      "{'RECOMMENDATION': 'STRONG_BUY', 'BUY': 11, 'SELL': 3, 'NEUTRAL': 1, 'COMPUTE': {'EMA10': 'SELL', 'SMA10': 'SELL', 'EMA20': 'BUY', 'SMA20': 'BUY', 'EMA30': 'BUY', 'SMA30': 'BUY', 'EMA50': 'BUY', 'SMA50': 'BUY', 'EMA100': 'BUY', 'SMA100': 'BUY', 'EMA200': 'BUY', 'SMA200': 'BUY', 'Ichimoku': 'NEUTRAL', 'VWMA': 'BUY', 'HullMA': 'SELL'}}\n"
     ]
    }
   ],
   "source": [
    "print(tesla.get_analysis().moving_averages)"
   ]
  },
  {
   "cell_type": "code",
   "execution_count": 6,
   "id": "a097c39e",
   "metadata": {},
   "outputs": [
    {
     "name": "stdout",
     "output_type": "stream",
     "text": [
      "{'Recommend.Other': 0.18181818, 'Recommend.All': 0.35757576, 'Recommend.MA': 0.53333333, 'RSI': 55.13113341, 'RSI[1]': 59.23550992, 'Stoch.K': 49.52010895, 'Stoch.D': 55.85579704, 'Stoch.K[1]': 57.57247126, 'Stoch.D[1]': 58.16166902, 'CCI20': 16.21671213, 'CCI20[1]': 48.08798551, 'ADX': 25.85941323, 'ADX+DI': 28.84932278, 'ADX-DI': 15.59497748, 'ADX+DI[1]': 30.37093135, 'ADX-DI[1]': 16.4175081, 'AO': 209.45127206, 'AO[1]': 206.95790824, 'Mom': -37.15, 'Mom[1]': -172.48, 'MACD.macd': 79.43877654, 'MACD.signal': 89.33648809, 'Rec.Stoch.RSI': 0, 'Stoch.RSI.K': 10.62937474, 'Rec.WR': 0, 'W.R': -63.06310903, 'Rec.BBPower': 1, 'BBPower': 59.6911475, 'Rec.UO': 0, 'UO': 44.69552003, 'close': 996.27, 'EMA5': 1024.35142836, 'SMA5': 1039.324, 'EMA10': 1016.72406275, 'SMA10': 1038.017, 'EMA20': 962.08650934, 'SMA20': 966.6625, 'EMA30': 907.18836827, 'SMA30': 872.864, 'EMA50': 813.75509565, 'SMA50': 790.2764, 'EMA100': 635.95779252, 'SMA100': 581.58472, 'EMA200': 437.39079645, 'SMA200': 322.53173, 'Rec.Ichimoku': 0, 'Ichimoku.BLine': 935.365, 'Rec.VWMA': 1, 'VWMA': 993.78250263, 'Rec.HullMA9': -1, 'HullMA9': 1037.35477778, 'Pivot.M.Classic.S3': None, 'Pivot.M.Classic.S2': 242.58666667, 'Pivot.M.Classic.S1': 649.68333333, 'Pivot.M.Classic.Middle': 946.58666667, 'Pivot.M.Classic.R1': 1353.68333333, 'Pivot.M.Classic.R2': 1650.58666667, 'Pivot.M.Classic.R3': 2354.58666667, 'Pivot.M.Fibonacci.S3': 242.58666667, 'Pivot.M.Fibonacci.S2': 511.51466667, 'Pivot.M.Fibonacci.S1': 677.65866667, 'Pivot.M.Fibonacci.Middle': 946.58666667, 'Pivot.M.Fibonacci.R1': 1215.51466667, 'Pivot.M.Fibonacci.R2': 1381.65866667, 'Pivot.M.Fibonacci.R3': 1650.58666667, 'Pivot.M.Camarilla.S3': 863.18, 'Pivot.M.Camarilla.S2': 927.71333333, 'Pivot.M.Camarilla.S1': 992.24666667, 'Pivot.M.Camarilla.Middle': 946.58666667, 'Pivot.M.Camarilla.R1': 1121.31333333, 'Pivot.M.Camarilla.R2': 1185.84666667, 'Pivot.M.Camarilla.R3': 1250.38, 'Pivot.M.Woodie.S3': 91.75, 'Pivot.M.Woodie.S2': 315.62, 'Pivot.M.Woodie.S1': 795.75, 'Pivot.M.Woodie.Middle': 1019.62, 'Pivot.M.Woodie.R1': 1499.75, 'Pivot.M.Woodie.R2': 1723.62, 'Pivot.M.Woodie.R3': 2203.75, 'Pivot.M.Demark.S1': 798.135, 'Pivot.M.Demark.Middle': 1020.8125, 'Pivot.M.Demark.R1': 1502.135, 'open': 1026.605, 'P.SAR': 898.866448, 'BB.lower': 687.2640265, 'BB.upper': 1246.0609735, 'AO[2]': 213.68502588, 'volume': 70973547, 'change': -5.08188756, 'low': 994, 'high': 1070.7899}\n"
     ]
    }
   ],
   "source": [
    "print(tesla.get_analysis().indicators)"
   ]
  },
  {
   "cell_type": "code",
   "execution_count": 7,
   "id": "131b57c1",
   "metadata": {},
   "outputs": [
    {
     "name": "stdout",
     "output_type": "stream",
     "text": [
      "996.27\n"
     ]
    }
   ],
   "source": [
    "ind = tesla.get_analysis().indicators\n",
    "print(ind['close'])"
   ]
  },
  {
   "cell_type": "code",
   "execution_count": 8,
   "id": "b49d45e8",
   "metadata": {},
   "outputs": [],
   "source": [
    "osc = tesla.get_analysis().oscillators\n",
    "osc2 = tesla.get_analysis().moving_averages"
   ]
  },
  {
   "cell_type": "code",
   "execution_count": 9,
   "id": "239f25f8",
   "metadata": {},
   "outputs": [
    {
     "data": {
      "text/plain": [
       "{'RECOMMENDATION': 'BUY',\n",
       " 'BUY': 3,\n",
       " 'SELL': 1,\n",
       " 'NEUTRAL': 7,\n",
       " 'COMPUTE': {'RSI': 'NEUTRAL',\n",
       "  'STOCH.K': 'NEUTRAL',\n",
       "  'CCI': 'NEUTRAL',\n",
       "  'ADX': 'NEUTRAL',\n",
       "  'AO': 'BUY',\n",
       "  'Mom': 'BUY',\n",
       "  'MACD': 'SELL',\n",
       "  'Stoch.RSI': 'NEUTRAL',\n",
       "  'W%R': 'NEUTRAL',\n",
       "  'BBP': 'BUY',\n",
       "  'UO': 'NEUTRAL'}}"
      ]
     },
     "execution_count": 9,
     "metadata": {},
     "output_type": "execute_result"
    }
   ],
   "source": [
    "osc"
   ]
  },
  {
   "cell_type": "code",
   "execution_count": 10,
   "id": "4b63dc61",
   "metadata": {},
   "outputs": [
    {
     "data": {
      "text/plain": [
       "{'RECOMMENDATION': 'STRONG_BUY',\n",
       " 'BUY': 11,\n",
       " 'SELL': 3,\n",
       " 'NEUTRAL': 1,\n",
       " 'COMPUTE': {'EMA10': 'SELL',\n",
       "  'SMA10': 'SELL',\n",
       "  'EMA20': 'BUY',\n",
       "  'SMA20': 'BUY',\n",
       "  'EMA30': 'BUY',\n",
       "  'SMA30': 'BUY',\n",
       "  'EMA50': 'BUY',\n",
       "  'SMA50': 'BUY',\n",
       "  'EMA100': 'BUY',\n",
       "  'SMA100': 'BUY',\n",
       "  'EMA200': 'BUY',\n",
       "  'SMA200': 'BUY',\n",
       "  'Ichimoku': 'NEUTRAL',\n",
       "  'VWMA': 'BUY',\n",
       "  'HullMA': 'SELL'}}"
      ]
     },
     "execution_count": 10,
     "metadata": {},
     "output_type": "execute_result"
    }
   ],
   "source": [
    "osc2"
   ]
  },
  {
   "cell_type": "code",
   "execution_count": 11,
   "id": "65ada959",
   "metadata": {},
   "outputs": [],
   "source": [
    "inidicators = pd.DataFrame(tesla.get_analysis().oscillators['COMPUTE'], index=[0])"
   ]
  },
  {
   "cell_type": "code",
   "execution_count": 12,
   "id": "ecc4ba96",
   "metadata": {},
   "outputs": [
    {
     "data": {
      "text/html": [
       "<div>\n",
       "<style scoped>\n",
       "    .dataframe tbody tr th:only-of-type {\n",
       "        vertical-align: middle;\n",
       "    }\n",
       "\n",
       "    .dataframe tbody tr th {\n",
       "        vertical-align: top;\n",
       "    }\n",
       "\n",
       "    .dataframe thead th {\n",
       "        text-align: right;\n",
       "    }\n",
       "</style>\n",
       "<table border=\"1\" class=\"dataframe\">\n",
       "  <thead>\n",
       "    <tr style=\"text-align: right;\">\n",
       "      <th></th>\n",
       "      <th>RSI</th>\n",
       "      <th>STOCH.K</th>\n",
       "      <th>CCI</th>\n",
       "      <th>ADX</th>\n",
       "      <th>AO</th>\n",
       "      <th>Mom</th>\n",
       "      <th>MACD</th>\n",
       "      <th>Stoch.RSI</th>\n",
       "      <th>W%R</th>\n",
       "      <th>BBP</th>\n",
       "      <th>UO</th>\n",
       "    </tr>\n",
       "  </thead>\n",
       "  <tbody>\n",
       "    <tr>\n",
       "      <th>0</th>\n",
       "      <td>NEUTRAL</td>\n",
       "      <td>NEUTRAL</td>\n",
       "      <td>NEUTRAL</td>\n",
       "      <td>NEUTRAL</td>\n",
       "      <td>BUY</td>\n",
       "      <td>BUY</td>\n",
       "      <td>SELL</td>\n",
       "      <td>NEUTRAL</td>\n",
       "      <td>NEUTRAL</td>\n",
       "      <td>BUY</td>\n",
       "      <td>NEUTRAL</td>\n",
       "    </tr>\n",
       "  </tbody>\n",
       "</table>\n",
       "</div>"
      ],
      "text/plain": [
       "       RSI  STOCH.K      CCI      ADX   AO  Mom  MACD Stoch.RSI      W%R  BBP  \\\n",
       "0  NEUTRAL  NEUTRAL  NEUTRAL  NEUTRAL  BUY  BUY  SELL   NEUTRAL  NEUTRAL  BUY   \n",
       "\n",
       "        UO  \n",
       "0  NEUTRAL  "
      ]
     },
     "execution_count": 12,
     "metadata": {},
     "output_type": "execute_result"
    }
   ],
   "source": [
    "inidicators"
   ]
  },
  {
   "cell_type": "code",
   "execution_count": 13,
   "id": "538ee5a2",
   "metadata": {},
   "outputs": [],
   "source": [
    "moving_avg = inidicators = pd.DataFrame(tesla.get_analysis().moving_averages['COMPUTE'], index=[0])"
   ]
  },
  {
   "cell_type": "code",
   "execution_count": 14,
   "id": "1136323b",
   "metadata": {},
   "outputs": [
    {
     "data": {
      "text/html": [
       "<div>\n",
       "<style scoped>\n",
       "    .dataframe tbody tr th:only-of-type {\n",
       "        vertical-align: middle;\n",
       "    }\n",
       "\n",
       "    .dataframe tbody tr th {\n",
       "        vertical-align: top;\n",
       "    }\n",
       "\n",
       "    .dataframe thead th {\n",
       "        text-align: right;\n",
       "    }\n",
       "</style>\n",
       "<table border=\"1\" class=\"dataframe\">\n",
       "  <thead>\n",
       "    <tr style=\"text-align: right;\">\n",
       "      <th></th>\n",
       "      <th>EMA10</th>\n",
       "      <th>SMA10</th>\n",
       "      <th>EMA20</th>\n",
       "      <th>SMA20</th>\n",
       "      <th>EMA30</th>\n",
       "      <th>SMA30</th>\n",
       "      <th>EMA50</th>\n",
       "      <th>SMA50</th>\n",
       "      <th>EMA100</th>\n",
       "      <th>SMA100</th>\n",
       "      <th>EMA200</th>\n",
       "      <th>SMA200</th>\n",
       "      <th>Ichimoku</th>\n",
       "      <th>VWMA</th>\n",
       "      <th>HullMA</th>\n",
       "    </tr>\n",
       "  </thead>\n",
       "  <tbody>\n",
       "    <tr>\n",
       "      <th>0</th>\n",
       "      <td>SELL</td>\n",
       "      <td>SELL</td>\n",
       "      <td>BUY</td>\n",
       "      <td>BUY</td>\n",
       "      <td>BUY</td>\n",
       "      <td>BUY</td>\n",
       "      <td>BUY</td>\n",
       "      <td>BUY</td>\n",
       "      <td>BUY</td>\n",
       "      <td>BUY</td>\n",
       "      <td>BUY</td>\n",
       "      <td>BUY</td>\n",
       "      <td>NEUTRAL</td>\n",
       "      <td>BUY</td>\n",
       "      <td>SELL</td>\n",
       "    </tr>\n",
       "  </tbody>\n",
       "</table>\n",
       "</div>"
      ],
      "text/plain": [
       "  EMA10 SMA10 EMA20 SMA20 EMA30 SMA30 EMA50 SMA50 EMA100 SMA100 EMA200 SMA200  \\\n",
       "0  SELL  SELL   BUY   BUY   BUY   BUY   BUY   BUY    BUY    BUY    BUY    BUY   \n",
       "\n",
       "  Ichimoku VWMA HullMA  \n",
       "0  NEUTRAL  BUY   SELL  "
      ]
     },
     "execution_count": 14,
     "metadata": {},
     "output_type": "execute_result"
    }
   ],
   "source": [
    "moving_avg"
   ]
  },
  {
   "cell_type": "code",
   "execution_count": 15,
   "id": "ab919f62",
   "metadata": {},
   "outputs": [],
   "source": [
    "basic = {'symbol':tesla.symbol,'Exchange':tesla.exchange,'interval':tesla.interval,'open':tesla.get_analysis().indicators['open'],'close':tesla.get_analysis().indicators['close'],'high':tesla.get_analysis().indicators['high'],'low':tesla.get_analysis().indicators['low'],'volume':tesla.get_analysis().indicators['volume']}"
   ]
  },
  {
   "cell_type": "code",
   "execution_count": 16,
   "id": "0e3bd0e6",
   "metadata": {},
   "outputs": [],
   "source": [
    "basic = pd.DataFrame(basic, index=[0])"
   ]
  },
  {
   "cell_type": "code",
   "execution_count": 17,
   "id": "afc45f99",
   "metadata": {},
   "outputs": [
    {
     "data": {
      "text/html": [
       "<div>\n",
       "<style scoped>\n",
       "    .dataframe tbody tr th:only-of-type {\n",
       "        vertical-align: middle;\n",
       "    }\n",
       "\n",
       "    .dataframe tbody tr th {\n",
       "        vertical-align: top;\n",
       "    }\n",
       "\n",
       "    .dataframe thead th {\n",
       "        text-align: right;\n",
       "    }\n",
       "</style>\n",
       "<table border=\"1\" class=\"dataframe\">\n",
       "  <thead>\n",
       "    <tr style=\"text-align: right;\">\n",
       "      <th></th>\n",
       "      <th>symbol</th>\n",
       "      <th>Exchange</th>\n",
       "      <th>interval</th>\n",
       "      <th>open</th>\n",
       "      <th>close</th>\n",
       "      <th>high</th>\n",
       "      <th>low</th>\n",
       "      <th>volume</th>\n",
       "    </tr>\n",
       "  </thead>\n",
       "  <tbody>\n",
       "    <tr>\n",
       "      <th>0</th>\n",
       "      <td>TSLA</td>\n",
       "      <td>NASDAQ</td>\n",
       "      <td>1W</td>\n",
       "      <td>1026.605</td>\n",
       "      <td>996.27</td>\n",
       "      <td>1070.7899</td>\n",
       "      <td>994</td>\n",
       "      <td>70973547</td>\n",
       "    </tr>\n",
       "  </tbody>\n",
       "</table>\n",
       "</div>"
      ],
      "text/plain": [
       "  symbol Exchange interval      open   close       high  low    volume\n",
       "0   TSLA   NASDAQ       1W  1026.605  996.27  1070.7899  994  70973547"
      ]
     },
     "execution_count": 17,
     "metadata": {},
     "output_type": "execute_result"
    }
   ],
   "source": [
    "basic"
   ]
  },
  {
   "cell_type": "code",
   "execution_count": 126,
   "id": "ea793e31",
   "metadata": {},
   "outputs": [],
   "source": [
    "buy = 0\n",
    "buy_flag = True\n",
    "sell = 0\n",
    "stop_loss = 0\n",
    "profit = 0"
   ]
  },
  {
   "cell_type": "code",
   "execution_count": 209,
   "id": "01238ec5",
   "metadata": {},
   "outputs": [],
   "source": [
    "def Buy(close,Open,high,low):\n",
    "    print('Buy flag is open')\n",
    "    global buy\n",
    "    buy = close\n",
    "    print('Stock buyed at the price:',buy)\n",
    "    global stop_loss\n",
    "    stop_loss = Open\n",
    "    print('stop loss is set to:',stop_loss)\n",
    "    print('Buy flag changed to False')"
   ]
  },
  {
   "cell_type": "code",
   "execution_count": 210,
   "id": "2d2376d4",
   "metadata": {},
   "outputs": [],
   "source": [
    "close = 20\n",
    "Open = 10\n",
    "high = 30\n",
    "low = 5"
   ]
  },
  {
   "cell_type": "code",
   "execution_count": 211,
   "id": "1d04d5ca",
   "metadata": {},
   "outputs": [
    {
     "name": "stdout",
     "output_type": "stream",
     "text": [
      "Buy flag is open\n",
      "Stock buyed at the price: 20\n",
      "stop loss is set to: 10\n",
      "Buy flag changed to False\n"
     ]
    }
   ],
   "source": [
    "if buy_flag:\n",
    "    Buy(close,Open,high,low)\n",
    "\n",
    "    buy_flag = False\n",
    "else:print('alredy buyed')"
   ]
  },
  {
   "cell_type": "code",
   "execution_count": 216,
   "id": "70259765",
   "metadata": {},
   "outputs": [],
   "source": [
    "close = 10\n",
    "Open = 10\n",
    "high = 30\n",
    "low = 5"
   ]
  },
  {
   "cell_type": "code",
   "execution_count": 217,
   "id": "7f51e4d7",
   "metadata": {},
   "outputs": [
    {
     "name": "stdout",
     "output_type": "stream",
     "text": [
      "Stock buyed at the price: 20\n",
      "selling the stocks reached the stop loss\n",
      "stop loss is set to: 90\n",
      "your profit : -10\n",
      "changed the flag\n"
     ]
    }
   ],
   "source": [
    "if buy_flag == False:\n",
    "    \n",
    "    if stop_loss >= close:\n",
    "        print('Stock buyed at the price:',buy)\n",
    "        print('selling the stocks reached the stop loss')\n",
    "        print('stop loss is set to:', stop_loss)\n",
    "        global sell\n",
    "        sell = close\n",
    "        global profit\n",
    "        profit = sell - buy\n",
    "        print('your profit :',profit)\n",
    "        buy_flag = True\n",
    "        print('changed the flag')\n",
    "        buy_flag = True\n",
    "    elif stop_loss <= close:\n",
    "        print('your are making profit')\n",
    "        stop_loss = close\n",
    "        print('your stop loss updated:',stop_loss)\n",
    "else:\n",
    "    print('first buy')\n",
    "    "
   ]
  },
  {
   "cell_type": "code",
   "execution_count": 146,
   "id": "da27bd7c",
   "metadata": {},
   "outputs": [
    {
     "data": {
      "text/plain": [
       "20"
      ]
     },
     "execution_count": 146,
     "metadata": {},
     "output_type": "execute_result"
    }
   ],
   "source": [
    "buy"
   ]
  },
  {
   "cell_type": "code",
   "execution_count": 190,
   "id": "33f4692b",
   "metadata": {},
   "outputs": [
    {
     "data": {
      "text/plain": [
       "10"
      ]
     },
     "execution_count": 190,
     "metadata": {},
     "output_type": "execute_result"
    }
   ],
   "source": [
    "stop_loss"
   ]
  },
  {
   "cell_type": "code",
   "execution_count": 46,
   "id": "99832162",
   "metadata": {},
   "outputs": [
    {
     "data": {
      "text/plain": [
       "10"
      ]
     },
     "execution_count": 46,
     "metadata": {},
     "output_type": "execute_result"
    }
   ],
   "source": [
    "profit"
   ]
  },
  {
   "cell_type": "code",
   "execution_count": 63,
   "id": "b2ab567f",
   "metadata": {},
   "outputs": [
    {
     "data": {
      "text/plain": [
       "False"
      ]
     },
     "execution_count": 63,
     "metadata": {},
     "output_type": "execute_result"
    }
   ],
   "source": [
    "buy_flag"
   ]
  },
  {
   "cell_type": "code",
   "execution_count": 191,
   "id": "934bef4a",
   "metadata": {},
   "outputs": [
    {
     "data": {
      "text/plain": [
       "10"
      ]
     },
     "execution_count": 191,
     "metadata": {},
     "output_type": "execute_result"
    }
   ],
   "source": [
    "close"
   ]
  },
  {
   "cell_type": "code",
   "execution_count": 123,
   "id": "d23c125b",
   "metadata": {},
   "outputs": [
    {
     "data": {
      "text/plain": [
       "True"
      ]
     },
     "execution_count": 123,
     "metadata": {},
     "output_type": "execute_result"
    }
   ],
   "source": [
    "stop_loss >= close"
   ]
  },
  {
   "cell_type": "code",
   "execution_count": null,
   "id": "9a3b98fa",
   "metadata": {},
   "outputs": [],
   "source": []
  }
 ],
 "metadata": {
  "kernelspec": {
   "display_name": "Python 3",
   "language": "python",
   "name": "python3"
  },
  "language_info": {
   "codemirror_mode": {
    "name": "ipython",
    "version": 3
   },
   "file_extension": ".py",
   "mimetype": "text/x-python",
   "name": "python",
   "nbconvert_exporter": "python",
   "pygments_lexer": "ipython3",
   "version": "3.8.8"
  }
 },
 "nbformat": 4,
 "nbformat_minor": 5
}
